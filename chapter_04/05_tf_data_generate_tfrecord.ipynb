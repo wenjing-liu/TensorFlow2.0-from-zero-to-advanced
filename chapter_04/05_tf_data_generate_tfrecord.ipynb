{
 "cells": [
  {
   "cell_type": "code",
   "execution_count": 1,
   "metadata": {},
   "outputs": [
    {
     "name": "stdout",
     "output_type": "stream",
     "text": [
      "2.0.0\n",
      "sys.version_info(major=3, minor=7, micro=4, releaselevel='final', serial=0)\n",
      "matplotlib 3.1.2\n",
      "numpy 1.17.4\n",
      "pandas 0.25.3\n",
      "sklearn 0.22\n",
      "tensorflow 2.0.0\n",
      "tensorflow_core.keras 2.2.4-tf\n"
     ]
    }
   ],
   "source": [
    "import matplotlib as mpl\n",
    "import matplotlib.pyplot as plt\n",
    "%matplotlib inline\n",
    "\n",
    "import numpy as np\n",
    "import pandas as pd\n",
    "import sklearn\n",
    "import os\n",
    "import time\n",
    "import sys\n",
    "import tensorflow as tf\n",
    "\n",
    "from tensorflow import keras\n",
    "\n",
    "print(tf.__version__)\n",
    "print(sys.version_info)\n",
    "\n",
    "for module in mpl, np, pd, sklearn, tf, keras:\n",
    "    print(module.__name__, module.__version__)"
   ]
  },
  {
   "cell_type": "code",
   "execution_count": 6,
   "metadata": {},
   "outputs": [
    {
     "name": "stdout",
     "output_type": "stream",
     "text": [
      "['./generate_csv/train_15.csv', './generate_csv/train_01.csv', './generate_csv/train_00.csv', './generate_csv/train_14.csv', './generate_csv/train_02.csv', './generate_csv/train_16.csv', './generate_csv/train_17.csv', './generate_csv/train_03.csv', './generate_csv/train_07.csv', './generate_csv/train_13.csv', './generate_csv/train_12.csv', './generate_csv/train_06.csv', './generate_csv/train_10.csv', './generate_csv/train_04.csv', './generate_csv/train_05.csv', './generate_csv/train_11.csv', './generate_csv/train_08.csv', './generate_csv/train_09.csv', './generate_csv/train_19.csv', './generate_csv/train_18.csv']\n"
     ]
    }
   ],
   "source": [
    "source_dir = './generate_csv/'\n",
    "\n",
    "def get_filenamed_by_prefix(source_dir, prefix_name):\n",
    "    all_files = os.listdir(source_dir)\n",
    "    results = []\n",
    "    for filename in all_files:\n",
    "        if filename.startswith(prefix_name):\n",
    "            results.append(os.path.join(source_dir, filename))\n",
    "    return results\n",
    "train_filenames = get_filenamed_by_prefix(source_dir, 'train')\n",
    "valid_filenames = get_filenamed_by_prefix(source_dir, 'valid')\n",
    "test_filenames = get_filenamed_by_prefix(source_dir, 'test')\n",
    "print(train_filenames)"
   ]
  },
  {
   "cell_type": "code",
   "execution_count": 7,
   "metadata": {},
   "outputs": [],
   "source": [
    "def parse_csv_line(line, n_fields=9):\n",
    "    defs = [tf.constant(np.nan)] * n_fields\n",
    "    parsed_fields = tf.io.decode_csv(line, record_defaults=defs)\n",
    "    x = tf.stack(parsed_fields[0:-1])\n",
    "    y = tf.stack(parsed_fields[-1:])\n",
    "    return x, y\n",
    "\n",
    "def csv_reader_dataset(filenames, n_readers=5, batch_size=32, n_parse_threads=5, shuffle_buffer_size=10000):\n",
    "    dataset = tf.data.Dataset.list_files(filenames)\n",
    "    dataset = dataset.repeat()\n",
    "    dataset = dataset.interleave(\n",
    "        lambda filename: tf.data.TextLineDataset(filename).skip(1),\n",
    "        cycle_length = n_readers)\n",
    "    dataset.shuffle(shuffle_buffer_size)\n",
    "    dataset = dataset.map(parse_csv_line, num_parallel_calls=n_parse_threads)\n",
    "    dataset = dataset.batch(batch_size)\n",
    "    return dataset\n",
    "\n",
    "batch_size =32\n",
    "train_set = csv_reader_dataset(train_filenames)\n",
    "valid_set = csv_reader_dataset(valid_filenames)\n",
    "test_set = csv_reader_dataset(test_filenames)"
   ]
  },
  {
   "cell_type": "code",
   "execution_count": 9,
   "metadata": {},
   "outputs": [],
   "source": [
    "def serialize_example(x, y):\n",
    "    \"\"\"converts x, y to tf.train.Example and serialize\"\"\"\n",
    "    input_features = tf.train.FloatList(value = x)\n",
    "    label = tf.train.FloatList(value = y)\n",
    "    features = tf.train.Features(\n",
    "        feature = {\n",
    "            \"input_features\": tf.train.Feature(float_list = input_features),\n",
    "            \"label\": tf.train.Feature(float_list = label)\n",
    "        }\n",
    "    )\n",
    "    example = tf.train.Example(features = features)\n",
    "    return example.SerializeToString()\n",
    "\n",
    "\n",
    "def csv_dataset_to_tfrecords(base_filename, dataset, n_shards, steps_per_shard, \n",
    "                            compression_type = None):\n",
    "    options = tf.io.TFRecordOptions(compression_type = compression_type)\n",
    "    all_filenames = []\n",
    "    for shard_id in range(n_shards):\n",
    "        filename_fullpath = '{}_{:05d}-of-{:05d}'.format(base_filename, shard_id, n_shards)\n",
    "        with tf.io.TFRecordWriter(filename_fullpath, options) as writer:\n",
    "            for x_batch, y_batch in dataset.take(steps_per_shard):\n",
    "                for x_example, y_example in zip(x_batch, y_batch):\n",
    "                    writer.write(serialize_example(x_example, y_example))\n",
    "        all_filenames.append(filename_fullpath)\n",
    "    return all_filenames\n",
    "    "
   ]
  },
  {
   "cell_type": "code",
   "execution_count": 10,
   "metadata": {},
   "outputs": [],
   "source": [
    "n_shards = 20\n",
    "train_steps_per_shard = 11610 // batch_size // n_shards\n",
    "valid_steps_per_shard = 3880 // batch_size // n_shards\n",
    "test_steps_per_shard = 5170 // batch_size // n_shards\n",
    "\n",
    "output_dir = 'generate_tfrecords'\n",
    "if not os.path.exists(output_dir):\n",
    "    os.mkdir(output_dir)\n",
    "\n",
    "train_basename = os.path.join(output_dir, 'train')\n",
    "valid_basename = os.path.join(output_dir, 'valid')\n",
    "test_basename = os.path.join(output_dir, 'test')\n",
    "\n",
    "train_tfrecord_filnames = csv_dataset_to_tfrecords(\n",
    "    train_basename, train_set, n_shards, train_steps_per_shard, None)\n",
    "valid_tfrecord_filenames = csv_dataset_to_tfrecords(\n",
    "    valid_basename, valid_set, n_shards, valid_steps_per_shard, None)\n",
    "test_tfrecord_filenames = csv_dataset_to_tfrecords(\n",
    "    test_basename, test_set, n_shards, test_steps_per_shard, None)"
   ]
  },
  {
   "cell_type": "code",
   "execution_count": 11,
   "metadata": {},
   "outputs": [],
   "source": [
    "n_shards = 20\n",
    "train_steps_per_shard = 11610 // batch_size // n_shards\n",
    "valid_steps_per_shard = 3880 // batch_size // n_shards\n",
    "test_steps_per_shard = 5170 // batch_size // n_shards\n",
    "\n",
    "output_dir = 'generate_tfrecords_zip'\n",
    "if not os.path.exists(output_dir):\n",
    "    os.mkdir(output_dir)\n",
    "\n",
    "train_basename = os.path.join(output_dir, 'train')\n",
    "valid_basename = os.path.join(output_dir, 'valid')\n",
    "test_basename = os.path.join(output_dir, 'test')\n",
    "\n",
    "train_tfrecord_filnames = csv_dataset_to_tfrecords(\n",
    "    train_basename, train_set, n_shards, train_steps_per_shard, compression_type='GZIP')\n",
    "valid_tfrecord_filenames = csv_dataset_to_tfrecords(\n",
    "    valid_basename, valid_set, n_shards, valid_steps_per_shard, compression_type='GZIP')\n",
    "test_tfrecord_filenames = csv_dataset_to_tfrecords(\n",
    "    test_basename, test_set, n_shards, test_steps_per_shard, compression_type='GZIP')"
   ]
  },
  {
   "cell_type": "code",
   "execution_count": 14,
   "metadata": {},
   "outputs": [
    {
     "name": "stdout",
     "output_type": "stream",
     "text": [
      "tf.Tensor(\n",
      "[[ 0.04326301 -1.0895426  -0.38878718 -0.10789865 -0.68186635 -0.0723871\n",
      "  -0.8883662   0.8213992 ]\n",
      " [-0.82195884  1.8741661   0.1821235  -0.03170019 -0.6011179  -0.14337493\n",
      "   1.0852206  -0.8613995 ]\n",
      " [-1.1157656   0.99306357 -0.334192   -0.06535219 -0.32893205  0.04343066\n",
      "  -0.12785879  0.30707204]], shape=(3, 8), dtype=float32)\n",
      "tf.Tensor(\n",
      "[[1.426]\n",
      " [1.054]\n",
      " [0.524]], shape=(3, 1), dtype=float32)\n",
      "tf.Tensor(\n",
      "[[-1.119975   -1.3298433   0.14190045  0.4658137  -0.10301778 -0.10744184\n",
      "  -0.7950524   1.5304717 ]\n",
      " [-1.0591781   1.3935647  -0.02633197 -0.1100676  -0.6138199  -0.09695935\n",
      "   0.3247131  -0.03747724]\n",
      " [-0.66722274 -0.04823952  0.34529406  0.53826684  1.8521839  -0.06112538\n",
      "  -0.8417093   1.5204847 ]], shape=(3, 8), dtype=float32)\n",
      "tf.Tensor(\n",
      "[[0.66 ]\n",
      " [0.672]\n",
      " [1.59 ]], shape=(3, 1), dtype=float32)\n"
     ]
    }
   ],
   "source": [
    "expected_features = {\n",
    "    'input_features': tf.io.FixedLenFeature([8], dtype=tf.float32),\n",
    "    'label': tf.io.FixedLenFeature([1], dtype=tf.float32)\n",
    "}\n",
    "\n",
    "def parse_example(serialized_example):\n",
    "    example = tf.io.parse_single_example(serialized_example, expected_features)\n",
    "    return example['input_features'], example['label']\n",
    "\n",
    "def tfrecords_reader_dataset(filenames, n_readers = 5, batch_size = 32, n_parse_threads = 5,\n",
    "                            shuffle_buffer_size = 10000):\n",
    "    dataset = tf.data.Dataset.list_files(filenames)\n",
    "    dataset = dataset.repeat()\n",
    "    dataset = dataset.interleave(\n",
    "        lambda filename: tf.data.TFRecordDataset(\n",
    "        filename, compression_type = 'GZIP'),\n",
    "        cycle_length = n_readers)\n",
    "    dataset.shuffle(shuffle_buffer_size)\n",
    "    dataset = dataset.map(parse_example, num_parallel_calls=n_parse_threads)\n",
    "    dataset = dataset.batch(batch_size)\n",
    "    return dataset\n",
    "\n",
    "tfrecords_train = tfrecords_reader_dataset(train_tfrecord_filnames, batch_size=3)\n",
    "\n",
    "for x_batch, y_batch in tfrecords_train.take(2):\n",
    "    print(x_batch)\n",
    "    print(y_batch)"
   ]
  },
  {
   "cell_type": "code",
   "execution_count": null,
   "metadata": {},
   "outputs": [],
   "source": [
    "batch_size = 32\n",
    "tfrecords_train_set = tfrecords_reader_dataset(train_tfrecord_filnames, batch_size=batch_size)\n",
    "tfrecords_valid_set = tfrecords_reader_dataset(valid_tfrecord_filenames, batch_size=batch_size)\n",
    "tf"
   ]
  }
 ],
 "metadata": {
  "kernelspec": {
   "display_name": "tensorflow_2.0_env",
   "language": "python",
   "name": "tensorflow_2.0_env"
  },
  "language_info": {
   "codemirror_mode": {
    "name": "ipython",
    "version": 3
   },
   "file_extension": ".py",
   "mimetype": "text/x-python",
   "name": "python",
   "nbconvert_exporter": "python",
   "pygments_lexer": "ipython3",
   "version": "3.7.4"
  }
 },
 "nbformat": 4,
 "nbformat_minor": 2
}
