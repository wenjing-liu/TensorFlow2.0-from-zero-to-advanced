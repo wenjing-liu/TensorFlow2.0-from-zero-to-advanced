{
 "cells": [
  {
   "cell_type": "code",
   "execution_count": 1,
   "metadata": {},
   "outputs": [
    {
     "name": "stdout",
     "output_type": "stream",
     "text": [
      "2.0.0\n",
      "sys.version_info(major=3, minor=7, micro=4, releaselevel='final', serial=0)\n",
      "matplotlib 3.1.2\n",
      "numpy 1.17.4\n",
      "pandas 0.25.3\n",
      "sklearn 0.22\n",
      "tensorflow 2.0.0\n",
      "tensorflow_core.keras 2.2.4-tf\n"
     ]
    }
   ],
   "source": [
    "import matplotlib as mpl\n",
    "import matplotlib.pyplot as plt\n",
    "%matplotlib inline\n",
    "import numpy as np\n",
    "import sklearn\n",
    "import pandas as pd\n",
    "import os\n",
    "import sys\n",
    "import time\n",
    "import tensorflow as tf\n",
    "\n",
    "from tensorflow import keras\n",
    "\n",
    "print(tf.__version__)\n",
    "print(sys.version_info)\n",
    "\n",
    "for module in mpl, np, pd, sklearn, tf, keras:\n",
    "    print(module.__name__, module.__version__)"
   ]
  },
  {
   "cell_type": "code",
   "execution_count": 2,
   "metadata": {},
   "outputs": [
    {
     "name": "stdout",
     "output_type": "stream",
     "text": [
      "65536\n",
      "First Citizen:\n",
      "Before we proceed any further, hear me speak.\n",
      "\n",
      "All:\n",
      "Speak, speak.\n",
      "\n",
      "First Citizen:\n",
      "You\n"
     ]
    }
   ],
   "source": [
    "input_filepath = './shakespeare.txt'\n",
    "text = open(input_filepath, 'r').read()\n",
    "\n",
    "print(len(text))\n",
    "print(text[0:100])"
   ]
  },
  {
   "cell_type": "code",
   "execution_count": 3,
   "metadata": {},
   "outputs": [
    {
     "name": "stdout",
     "output_type": "stream",
     "text": [
      "59\n"
     ]
    }
   ],
   "source": [
    "# 1. geneate vocab\n",
    "# 2. buling mapping char -> id\n",
    "# 3. data -> id_data\n",
    "# 4. abcd -> bcd<eos>\n",
    "\n",
    "vocab = sorted(set(text))\n",
    "print(len(vocab))"
   ]
  },
  {
   "cell_type": "code",
   "execution_count": 4,
   "metadata": {},
   "outputs": [
    {
     "name": "stdout",
     "output_type": "stream",
     "text": [
      "['\\n', ' ', '!', \"'\", ',', '-', '.', ':', ';', '?', 'A', 'B', 'C', 'D', 'E', 'F', 'G', 'H', 'I', 'J', 'K', 'L', 'M', 'N', 'O', 'P', 'R', 'S', 'T', 'U', 'V', 'W', 'Y', 'a', 'b', 'c', 'd', 'e', 'f', 'g', 'h', 'i', 'j', 'k', 'l', 'm', 'n', 'o', 'p', 'q', 'r', 's', 't', 'u', 'v', 'w', 'x', 'y', 'z']\n"
     ]
    }
   ],
   "source": [
    "print(vocab)"
   ]
  },
  {
   "cell_type": "code",
   "execution_count": 5,
   "metadata": {},
   "outputs": [],
   "source": [
    "char2idx = {char:idx for idx, char in enumerate(vocab)}"
   ]
  },
  {
   "cell_type": "code",
   "execution_count": 6,
   "metadata": {},
   "outputs": [
    {
     "name": "stdout",
     "output_type": "stream",
     "text": [
      "{'\\n': 0, ' ': 1, '!': 2, \"'\": 3, ',': 4, '-': 5, '.': 6, ':': 7, ';': 8, '?': 9, 'A': 10, 'B': 11, 'C': 12, 'D': 13, 'E': 14, 'F': 15, 'G': 16, 'H': 17, 'I': 18, 'J': 19, 'K': 20, 'L': 21, 'M': 22, 'N': 23, 'O': 24, 'P': 25, 'R': 26, 'S': 27, 'T': 28, 'U': 29, 'V': 30, 'W': 31, 'Y': 32, 'a': 33, 'b': 34, 'c': 35, 'd': 36, 'e': 37, 'f': 38, 'g': 39, 'h': 40, 'i': 41, 'j': 42, 'k': 43, 'l': 44, 'm': 45, 'n': 46, 'o': 47, 'p': 48, 'q': 49, 'r': 50, 's': 51, 't': 52, 'u': 53, 'v': 54, 'w': 55, 'x': 56, 'y': 57, 'z': 58}\n"
     ]
    }
   ],
   "source": [
    "print(char2idx)"
   ]
  },
  {
   "cell_type": "code",
   "execution_count": 7,
   "metadata": {},
   "outputs": [
    {
     "name": "stdout",
     "output_type": "stream",
     "text": [
      "['\\n' ' ' '!' \"'\" ',' '-' '.' ':' ';' '?' 'A' 'B' 'C' 'D' 'E' 'F' 'G' 'H'\n",
      " 'I' 'J' 'K' 'L' 'M' 'N' 'O' 'P' 'R' 'S' 'T' 'U' 'V' 'W' 'Y' 'a' 'b' 'c'\n",
      " 'd' 'e' 'f' 'g' 'h' 'i' 'j' 'k' 'l' 'm' 'n' 'o' 'p' 'q' 'r' 's' 't' 'u'\n",
      " 'v' 'w' 'x' 'y' 'z']\n"
     ]
    }
   ],
   "source": [
    "idx2char = np.array(vocab)\n",
    "print(idx2char)"
   ]
  },
  {
   "cell_type": "code",
   "execution_count": 8,
   "metadata": {},
   "outputs": [
    {
     "name": "stdout",
     "output_type": "stream",
     "text": [
      "[15 41 50 51 52  1 12 41 52 41]\n",
      "First Citi\n"
     ]
    }
   ],
   "source": [
    "text_as_int = np.array([char2idx[c] for c in text])\n",
    "print(text_as_int[0:10])\n",
    "print(text[0:10])"
   ]
  },
  {
   "cell_type": "code",
   "execution_count": 9,
   "metadata": {},
   "outputs": [
    {
     "name": "stdout",
     "output_type": "stream",
     "text": [
      "tf.Tensor(15, shape=(), dtype=int64) F\n",
      "tf.Tensor(41, shape=(), dtype=int64) i\n",
      "tf.Tensor(\n",
      "[15 41 50 51 52  1 12 41 52 41 58 37 46  7  0 11 37 38 47 50 37  1 55 37\n",
      "  1 48 50 47 35 37 37 36  1 33 46 57  1 38 53 50 52 40 37 50  4  1 40 37\n",
      " 33 50  1 45 37  1 51 48 37 33 43  6  0  0 10 44 44  7  0 27 48 37 33 43\n",
      "  4  1 51 48 37 33 43  6  0  0 15 41 50 51 52  1 12 41 52 41 58 37 46  7\n",
      "  0 32 47 53  1], shape=(101,), dtype=int64)\n",
      "'First Citizen:\\nBefore we proceed any further, hear me speak.\\n\\nAll:\\nSpeak, speak.\\n\\nFirst Citizen:\\nYou '\n",
      "tf.Tensor(\n",
      "[33 50 37  1 33 44 44  1 50 37 51 47 44 54 37 36  1 50 33 52 40 37 50  1\n",
      " 52 47  1 36 41 37  1 52 40 33 46  1 52 47  1 38 33 45 41 51 40  9  0  0\n",
      " 10 44 44  7  0 26 37 51 47 44 54 37 36  6  1 50 37 51 47 44 54 37 36  6\n",
      "  0  0 15 41 50 51 52  1 12 41 52 41 58 37 46  7  0 15 41 50 51 52  4  1\n",
      " 57 47 53  1 43], shape=(101,), dtype=int64)\n",
      "'are all resolved rather to die than to famish?\\n\\nAll:\\nResolved. resolved.\\n\\nFirst Citizen:\\nFirst, you k'\n"
     ]
    }
   ],
   "source": [
    "def split_input_target(id_text):\n",
    "    \"\"\" abcde -> abcd, bacde\"\"\"\n",
    "    return id_text[0:-1], id_text[1:]\n",
    "\n",
    "char_dataset = tf.data.Dataset.from_tensor_slices(text_as_int)\n",
    "seq_length = 100\n",
    "seq_dataset = char_dataset.batch(seq_length + 1, drop_remainder = True)\n",
    "\n",
    "for ch_id in char_dataset.take(2):\n",
    "    print(ch_id, idx2char[ch_id.numpy()])\n",
    "\n",
    "for seq_id in seq_dataset.take(2):\n",
    "    print(seq_id)\n",
    "    print(repr(''.join(idx2char[seq_id.numpy()])))"
   ]
  },
  {
   "cell_type": "code",
   "execution_count": 10,
   "metadata": {},
   "outputs": [],
   "source": [
    "seq_dataset = seq_dataset.map(split_input_target)"
   ]
  },
  {
   "cell_type": "code",
   "execution_count": 11,
   "metadata": {},
   "outputs": [
    {
     "name": "stdout",
     "output_type": "stream",
     "text": [
      "tf.Tensor(\n",
      "[15 41 50 51 52  1 12 41 52 41 58 37 46  7  0 11 37 38 47 50 37  1 55 37\n",
      "  1 48 50 47 35 37 37 36  1 33 46 57  1 38 53 50 52 40 37 50  4  1 40 37\n",
      " 33 50  1 45 37  1 51 48 37 33 43  6  0  0 10 44 44  7  0 27 48 37 33 43\n",
      "  4  1 51 48 37 33 43  6  0  0 15 41 50 51 52  1 12 41 52 41 58 37 46  7\n",
      "  0 32 47 53], shape=(100,), dtype=int64)\n",
      "tf.Tensor(\n",
      "[41 50 51 52  1 12 41 52 41 58 37 46  7  0 11 37 38 47 50 37  1 55 37  1\n",
      " 48 50 47 35 37 37 36  1 33 46 57  1 38 53 50 52 40 37 50  4  1 40 37 33\n",
      " 50  1 45 37  1 51 48 37 33 43  6  0  0 10 44 44  7  0 27 48 37 33 43  4\n",
      "  1 51 48 37 33 43  6  0  0 15 41 50 51 52  1 12 41 52 41 58 37 46  7  0\n",
      " 32 47 53  1], shape=(100,), dtype=int64)\n",
      "tf.Tensor(\n",
      "[33 50 37  1 33 44 44  1 50 37 51 47 44 54 37 36  1 50 33 52 40 37 50  1\n",
      " 52 47  1 36 41 37  1 52 40 33 46  1 52 47  1 38 33 45 41 51 40  9  0  0\n",
      " 10 44 44  7  0 26 37 51 47 44 54 37 36  6  1 50 37 51 47 44 54 37 36  6\n",
      "  0  0 15 41 50 51 52  1 12 41 52 41 58 37 46  7  0 15 41 50 51 52  4  1\n",
      " 57 47 53  1], shape=(100,), dtype=int64)\n",
      "tf.Tensor(\n",
      "[50 37  1 33 44 44  1 50 37 51 47 44 54 37 36  1 50 33 52 40 37 50  1 52\n",
      " 47  1 36 41 37  1 52 40 33 46  1 52 47  1 38 33 45 41 51 40  9  0  0 10\n",
      " 44 44  7  0 26 37 51 47 44 54 37 36  6  1 50 37 51 47 44 54 37 36  6  0\n",
      "  0 15 41 50 51 52  1 12 41 52 41 58 37 46  7  0 15 41 50 51 52  4  1 57\n",
      " 47 53  1 43], shape=(100,), dtype=int64)\n"
     ]
    }
   ],
   "source": [
    "for item_input, item_output in seq_dataset.take(2):\n",
    "    print(item_input)\n",
    "    print(item_output)"
   ]
  },
  {
   "cell_type": "code",
   "execution_count": 12,
   "metadata": {},
   "outputs": [],
   "source": [
    "batch_size = 64\n",
    "buffer_size = 10000\n",
    "seq_dataset = seq_dataset.shuffle(buffer_size).batch(batch_size, drop_remainder=True)"
   ]
  },
  {
   "cell_type": "code",
   "execution_count": 14,
   "metadata": {},
   "outputs": [
    {
     "name": "stdout",
     "output_type": "stream",
     "text": [
      "Model: \"sequential_1\"\n",
      "_________________________________________________________________\n",
      "Layer (type)                 Output Shape              Param #   \n",
      "=================================================================\n",
      "embedding_1 (Embedding)      (64, None, 256)           15104     \n",
      "_________________________________________________________________\n",
      "lstm_1 (LSTM)                (64, None, 1024)          5246976   \n",
      "_________________________________________________________________\n",
      "dense_1 (Dense)              (64, None, 59)            60475     \n",
      "=================================================================\n",
      "Total params: 5,322,555\n",
      "Trainable params: 5,322,555\n",
      "Non-trainable params: 0\n",
      "_________________________________________________________________\n"
     ]
    }
   ],
   "source": [
    "vocab_size = len(vocab)\n",
    "embedding_dim = 256\n",
    "rnn_units = 1024\n",
    "\n",
    "def build_model(vocab_size, embedding_dim, rnn_units, batch_size):\n",
    "    model = keras.models.Sequential([\n",
    "        keras.layers.Embedding(vocab_size, embedding_dim, batch_input_shape = [batch_size, None]),\n",
    "        keras.layers.LSTM(units = rnn_units,\n",
    "                          stateful = True,\n",
    "                          recurrent_initializer = 'glorot_uniform',\n",
    "                          return_sequences = True),\n",
    "        keras.layers.Dense(vocab_size)\n",
    "    ])\n",
    "    return model\n",
    "\n",
    "model = build_model(vocab_size=vocab_size,\n",
    "                    embedding_dim=embedding_dim,\n",
    "                    rnn_units=rnn_units,\n",
    "                    batch_size=batch_size)\n",
    "\n",
    "model.summary()"
   ]
  },
  {
   "cell_type": "code",
   "execution_count": 36,
   "metadata": {},
   "outputs": [
    {
     "name": "stdout",
     "output_type": "stream",
     "text": [
      "(64, 100, 59)\n"
     ]
    }
   ],
   "source": [
    "for input_example_batch, target_example_batch in seq_dataset.take(1):\n",
    "    example_batch_predictions = model(input_example_batch)\n",
    "    print(example_batch_predictions.shape)"
   ]
  },
  {
   "cell_type": "code",
   "execution_count": 39,
   "metadata": {},
   "outputs": [
    {
     "name": "stdout",
     "output_type": "stream",
     "text": [
      "tf.Tensor(\n",
      "[[22]\n",
      " [ 1]\n",
      " [ 2]\n",
      " [44]\n",
      " [15]\n",
      " [44]\n",
      " [16]\n",
      " [37]\n",
      " [42]\n",
      " [21]\n",
      " [17]\n",
      " [38]\n",
      " [ 9]\n",
      " [ 0]\n",
      " [ 1]\n",
      " [22]\n",
      " [ 8]\n",
      " [17]\n",
      " [ 7]\n",
      " [ 5]\n",
      " [26]\n",
      " [42]\n",
      " [10]\n",
      " [39]\n",
      " [32]\n",
      " [39]\n",
      " [46]\n",
      " [17]\n",
      " [ 8]\n",
      " [36]\n",
      " [29]\n",
      " [37]\n",
      " [40]\n",
      " [58]\n",
      " [36]\n",
      " [41]\n",
      " [26]\n",
      " [31]\n",
      " [14]\n",
      " [16]\n",
      " [ 8]\n",
      " [35]\n",
      " [50]\n",
      " [43]\n",
      " [58]\n",
      " [49]\n",
      " [42]\n",
      " [ 7]\n",
      " [26]\n",
      " [ 8]\n",
      " [45]\n",
      " [ 5]\n",
      " [27]\n",
      " [44]\n",
      " [56]\n",
      " [26]\n",
      " [10]\n",
      " [ 8]\n",
      " [14]\n",
      " [58]\n",
      " [ 0]\n",
      " [49]\n",
      " [28]\n",
      " [47]\n",
      " [28]\n",
      " [27]\n",
      " [23]\n",
      " [21]\n",
      " [20]\n",
      " [57]\n",
      " [ 9]\n",
      " [38]\n",
      " [55]\n",
      " [58]\n",
      " [26]\n",
      " [32]\n",
      " [47]\n",
      " [ 2]\n",
      " [ 4]\n",
      " [34]\n",
      " [20]\n",
      " [31]\n",
      " [45]\n",
      " [51]\n",
      " [47]\n",
      " [15]\n",
      " [ 3]\n",
      " [17]\n",
      " [57]\n",
      " [34]\n",
      " [58]\n",
      " [44]\n",
      " [20]\n",
      " [36]\n",
      " [57]\n",
      " [12]\n",
      " [23]\n",
      " [55]\n",
      " [ 1]\n",
      " [ 5]], shape=(100, 1), dtype=int64)\n"
     ]
    }
   ],
   "source": [
    "sample_indices = tf.random.categorical(\n",
    "    logits=example_batch_predictions[0], num_samples=1)\n",
    "print(sample_indices)\n",
    "sample_indices = tf.squeeze(sample_indices, axis = -1)"
   ]
  },
  {
   "cell_type": "code",
   "execution_count": 40,
   "metadata": {},
   "outputs": [
    {
     "name": "stdout",
     "output_type": "stream",
     "text": [
      "input: 'sts to you,\\nWhere he should find you lions, finds you hares;\\nWhere foxes, geese: you are no surer, n'\n",
      "output: 'ts to you,\\nWhere he should find you lions, finds you hares;\\nWhere foxes, geese: you are no surer, no'\n",
      "Predictions: \"M !lFlGejLHf?\\n M;H:-RjAgYgnH;dUehzdiRWEG;crkzqj:R;m-SlxRA;Ez\\nqToTSNLKy?fwzRYo!,bKWmsoF'HybzlKdyCNw -\"\n"
     ]
    }
   ],
   "source": [
    "print('input:', repr(''.join(idx2char[input_example_batch[0]])))\n",
    "print('output:',repr(''.join(idx2char[target_example_batch[0]])) )\n",
    "print('Predictions:', repr(''.join(idx2char[sample_indices])))"
   ]
  },
  {
   "cell_type": "code",
   "execution_count": 43,
   "metadata": {},
   "outputs": [
    {
     "name": "stdout",
     "output_type": "stream",
     "text": [
      "(64, 100)\n",
      "4.079889\n"
     ]
    }
   ],
   "source": [
    "def loss(labels, logits):\n",
    "    return keras.losses.sparse_categorical_crossentropy(\n",
    "        labels, logits, from_logits=True)\n",
    "\n",
    "model.compile(optimizer='adam', loss = loss)\n",
    "example_loss = loss(target_example_batch, example_batch_predictions)\n",
    "print(example_loss.shape)\n",
    "print(example_loss.numpy().mean())"
   ]
  },
  {
   "cell_type": "code",
   "execution_count": 44,
   "metadata": {},
   "outputs": [
    {
     "name": "stdout",
     "output_type": "stream",
     "text": [
      "Epoch 1/100\n",
      "10/10 [==============================] - 19s 2s/step - loss: 3.6818\n",
      "Epoch 2/100\n",
      "10/10 [==============================] - 18s 2s/step - loss: 3.3530\n",
      "Epoch 3/100\n",
      "10/10 [==============================] - 19s 2s/step - loss: 3.2699\n",
      "Epoch 4/100\n",
      "10/10 [==============================] - 16s 2s/step - loss: 3.2155\n",
      "Epoch 5/100\n",
      "10/10 [==============================] - 16s 2s/step - loss: 3.0871\n",
      "Epoch 6/100\n",
      "10/10 [==============================] - 16s 2s/step - loss: 2.9139\n",
      "Epoch 7/100\n",
      "10/10 [==============================] - 15s 1s/step - loss: 2.8181\n",
      "Epoch 8/100\n",
      "10/10 [==============================] - 17s 2s/step - loss: 2.6259\n",
      "Epoch 9/100\n",
      "10/10 [==============================] - 16s 2s/step - loss: 2.5071\n",
      "Epoch 10/100\n",
      "10/10 [==============================] - 15s 1s/step - loss: 2.4081\n",
      "Epoch 11/100\n",
      "10/10 [==============================] - 15s 2s/step - loss: 2.3450\n",
      "Epoch 12/100\n",
      "10/10 [==============================] - 15s 1s/step - loss: 2.3023\n",
      "Epoch 13/100\n",
      "10/10 [==============================] - 15s 1s/step - loss: 2.2590\n",
      "Epoch 14/100\n",
      "10/10 [==============================] - 15s 2s/step - loss: 2.2208\n",
      "Epoch 15/100\n",
      "10/10 [==============================] - 15s 2s/step - loss: 2.1848\n",
      "Epoch 16/100\n",
      "10/10 [==============================] - 15s 1s/step - loss: 2.1504\n",
      "Epoch 17/100\n",
      "10/10 [==============================] - 15s 1s/step - loss: 2.1254\n",
      "Epoch 18/100\n",
      "10/10 [==============================] - 17s 2s/step - loss: 2.0857\n",
      "Epoch 19/100\n",
      "10/10 [==============================] - 15s 1s/step - loss: 2.0873\n",
      "Epoch 20/100\n",
      "10/10 [==============================] - 15s 1s/step - loss: 2.0554\n",
      "Epoch 21/100\n",
      "10/10 [==============================] - 15s 1s/step - loss: 2.0099\n",
      "Epoch 22/100\n",
      "10/10 [==============================] - 15s 1s/step - loss: 1.9851\n",
      "Epoch 23/100\n",
      "10/10 [==============================] - 19s 2s/step - loss: 1.9635\n",
      "Epoch 24/100\n",
      "10/10 [==============================] - 20s 2s/step - loss: 1.9355\n",
      "Epoch 25/100\n",
      "10/10 [==============================] - 18s 2s/step - loss: 1.9097\n",
      "Epoch 26/100\n",
      "10/10 [==============================] - 22s 2s/step - loss: 1.8926\n",
      "Epoch 27/100\n",
      "10/10 [==============================] - 24s 2s/step - loss: 1.8680\n",
      "Epoch 28/100\n",
      "10/10 [==============================] - 22s 2s/step - loss: 1.8436\n",
      "Epoch 29/100\n",
      "10/10 [==============================] - 23s 2s/step - loss: 1.8080\n",
      "Epoch 30/100\n",
      "10/10 [==============================] - 22s 2s/step - loss: 1.7950\n",
      "Epoch 31/100\n",
      "10/10 [==============================] - 21s 2s/step - loss: 1.7772\n",
      "Epoch 32/100\n",
      "10/10 [==============================] - 23s 2s/step - loss: 1.7472\n",
      "Epoch 33/100\n",
      "10/10 [==============================] - 20s 2s/step - loss: 1.7258\n",
      "Epoch 34/100\n",
      "10/10 [==============================] - 29s 3s/step - loss: 1.7063\n",
      "Epoch 35/100\n",
      "10/10 [==============================] - 26s 3s/step - loss: 1.6842\n",
      "Epoch 36/100\n",
      "10/10 [==============================] - 23s 2s/step - loss: 1.6643\n",
      "Epoch 37/100\n",
      "10/10 [==============================] - 20s 2s/step - loss: 1.6505\n",
      "Epoch 38/100\n",
      "10/10 [==============================] - 24s 2s/step - loss: 1.6243\n",
      "Epoch 39/100\n",
      "10/10 [==============================] - 19s 2s/step - loss: 1.6017\n",
      "Epoch 40/100\n",
      "10/10 [==============================] - 20s 2s/step - loss: 1.5874\n",
      "Epoch 41/100\n",
      "10/10 [==============================] - 15s 2s/step - loss: 1.5623\n",
      "Epoch 42/100\n",
      "10/10 [==============================] - 15s 2s/step - loss: 1.5403\n",
      "Epoch 43/100\n",
      "10/10 [==============================] - 16s 2s/step - loss: 1.5138\n",
      "Epoch 44/100\n",
      "10/10 [==============================] - 16s 2s/step - loss: 1.5016\n",
      "Epoch 45/100\n",
      "10/10 [==============================] - 16s 2s/step - loss: 1.4711\n",
      "Epoch 46/100\n",
      "10/10 [==============================] - 20s 2s/step - loss: 1.4494\n",
      "Epoch 47/100\n",
      "10/10 [==============================] - 20s 2s/step - loss: 1.4245\n",
      "Epoch 48/100\n",
      "10/10 [==============================] - 17s 2s/step - loss: 1.4050\n",
      "Epoch 49/100\n",
      "10/10 [==============================] - 21s 2s/step - loss: 1.3778\n",
      "Epoch 50/100\n",
      "10/10 [==============================] - 16s 2s/step - loss: 1.3537\n",
      "Epoch 51/100\n",
      "10/10 [==============================] - 16s 2s/step - loss: 1.3325\n",
      "Epoch 52/100\n",
      "10/10 [==============================] - 21s 2s/step - loss: 1.3089\n",
      "Epoch 53/100\n",
      "10/10 [==============================] - 19s 2s/step - loss: 1.2784\n",
      "Epoch 54/100\n",
      "10/10 [==============================] - 14s 1s/step - loss: 1.2503\n",
      "Epoch 55/100\n",
      "10/10 [==============================] - 14s 1s/step - loss: 1.2198\n",
      "Epoch 56/100\n",
      "10/10 [==============================] - 15s 1s/step - loss: 1.1900\n",
      "Epoch 57/100\n",
      "10/10 [==============================] - 14s 1s/step - loss: 1.1637\n",
      "Epoch 58/100\n",
      "10/10 [==============================] - 18s 2s/step - loss: 1.1335\n",
      "Epoch 59/100\n",
      "10/10 [==============================] - 15s 2s/step - loss: 1.0989\n",
      "Epoch 60/100\n",
      "10/10 [==============================] - 17s 2s/step - loss: 1.0718\n",
      "Epoch 61/100\n",
      "10/10 [==============================] - 18s 2s/step - loss: 1.0304\n",
      "Epoch 62/100\n",
      "10/10 [==============================] - 15s 2s/step - loss: 0.9910\n",
      "Epoch 63/100\n",
      "10/10 [==============================] - 15s 1s/step - loss: 0.9570\n",
      "Epoch 64/100\n",
      "10/10 [==============================] - 14s 1s/step - loss: 0.9238\n",
      "Epoch 65/100\n",
      "10/10 [==============================] - 15s 1s/step - loss: 0.8834\n",
      "Epoch 66/100\n",
      "10/10 [==============================] - 16s 2s/step - loss: 0.8593\n",
      "Epoch 67/100\n",
      "10/10 [==============================] - 16s 2s/step - loss: 0.8167\n",
      "Epoch 68/100\n",
      "10/10 [==============================] - 15s 1s/step - loss: 0.7813\n",
      "Epoch 69/100\n",
      "10/10 [==============================] - 18s 2s/step - loss: 0.7434\n",
      "Epoch 70/100\n",
      "10/10 [==============================] - 16s 2s/step - loss: 0.7005\n",
      "Epoch 71/100\n",
      "10/10 [==============================] - 18s 2s/step - loss: 0.6680\n",
      "Epoch 72/100\n",
      "10/10 [==============================] - 18s 2s/step - loss: 0.6383\n",
      "Epoch 73/100\n",
      "10/10 [==============================] - 18s 2s/step - loss: 0.6092\n",
      "Epoch 74/100\n",
      "10/10 [==============================] - 17s 2s/step - loss: 0.5634\n",
      "Epoch 75/100\n",
      "10/10 [==============================] - 16s 2s/step - loss: 0.5253\n",
      "Epoch 76/100\n",
      "10/10 [==============================] - 15s 1s/step - loss: 0.4956\n",
      "Epoch 77/100\n",
      "10/10 [==============================] - 17s 2s/step - loss: 0.4706\n",
      "Epoch 78/100\n",
      "10/10 [==============================] - 15s 2s/step - loss: 0.4487\n",
      "Epoch 79/100\n",
      "10/10 [==============================] - 15s 2s/step - loss: 0.4215\n",
      "Epoch 80/100\n",
      "10/10 [==============================] - 16s 2s/step - loss: 0.3896\n",
      "Epoch 81/100\n",
      "10/10 [==============================] - 15s 2s/step - loss: 0.3539\n",
      "Epoch 82/100\n",
      "10/10 [==============================] - 16s 2s/step - loss: 0.3253\n",
      "Epoch 83/100\n",
      "10/10 [==============================] - 16s 2s/step - loss: 0.2984\n",
      "Epoch 84/100\n",
      "10/10 [==============================] - 15s 1s/step - loss: 0.2791\n",
      "Epoch 85/100\n",
      "10/10 [==============================] - 15s 2s/step - loss: 0.2664\n",
      "Epoch 86/100\n",
      "10/10 [==============================] - 15s 2s/step - loss: 0.2503\n",
      "Epoch 87/100\n",
      "10/10 [==============================] - 16s 2s/step - loss: 0.2357\n",
      "Epoch 88/100\n",
      "10/10 [==============================] - 15s 2s/step - loss: 0.2250\n",
      "Epoch 89/100\n",
      "10/10 [==============================] - 15s 2s/step - loss: 0.2165\n",
      "Epoch 90/100\n",
      "10/10 [==============================] - 15s 2s/step - loss: 0.2052\n",
      "Epoch 91/100\n",
      "10/10 [==============================] - 16s 2s/step - loss: 0.1929\n",
      "Epoch 92/100\n",
      "10/10 [==============================] - 16s 2s/step - loss: 0.1804\n",
      "Epoch 93/100\n",
      "10/10 [==============================] - 16s 2s/step - loss: 0.1693\n",
      "Epoch 94/100\n",
      "10/10 [==============================] - 19s 2s/step - loss: 0.1576\n",
      "Epoch 95/100\n",
      "10/10 [==============================] - 20s 2s/step - loss: 0.1474\n",
      "Epoch 96/100\n",
      "10/10 [==============================] - 22s 2s/step - loss: 0.1397\n",
      "Epoch 97/100\n",
      "10/10 [==============================] - 17s 2s/step - loss: 0.1301\n",
      "Epoch 98/100\n",
      "10/10 [==============================] - 17s 2s/step - loss: 0.1236\n",
      "Epoch 99/100\n",
      "10/10 [==============================] - 16s 2s/step - loss: 0.1167\n",
      "Epoch 100/100\n",
      "10/10 [==============================] - 15s 2s/step - loss: 0.1101\n"
     ]
    }
   ],
   "source": [
    "output_dir = './text_generation_checkpoints'\n",
    "if not os.path.exists(output_dir):\n",
    "    os.mkdir(output_dir)\n",
    "checkpoint_prefix = os.path.join(output_dir, 'ckpt_{epoch}')\n",
    "checkpoint_callback = keras.callbacks.ModelCheckpoint(\n",
    "    filepath = checkpoint_prefix,\n",
    "    save_weights_only = True)\n",
    "\n",
    "epochs =100\n",
    "history = model.fit(seq_dataset, epochs = epochs,\n",
    "                   callbacks = [checkpoint_callback])"
   ]
  },
  {
   "cell_type": "code",
   "execution_count": 45,
   "metadata": {},
   "outputs": [
    {
     "data": {
      "text/plain": [
       "'./text_generation_checkpoints/ckpt_100'"
      ]
     },
     "execution_count": 45,
     "metadata": {},
     "output_type": "execute_result"
    }
   ],
   "source": [
    "tf.train.latest_checkpoint(output_dir)"
   ]
  },
  {
   "cell_type": "code",
   "execution_count": 47,
   "metadata": {},
   "outputs": [
    {
     "name": "stdout",
     "output_type": "stream",
     "text": [
      "Model: \"sequential_1\"\n",
      "_________________________________________________________________\n",
      "Layer (type)                 Output Shape              Param #   \n",
      "=================================================================\n",
      "embedding_1 (Embedding)      (1, None, 256)            15104     \n",
      "_________________________________________________________________\n",
      "simple_rnn_1 (SimpleRNN)     (1, None, 1024)           1311744   \n",
      "_________________________________________________________________\n",
      "dense_1 (Dense)              (1, None, 59)             60475     \n",
      "=================================================================\n",
      "Total params: 1,387,323\n",
      "Trainable params: 1,387,323\n",
      "Non-trainable params: 0\n",
      "_________________________________________________________________\n"
     ]
    }
   ],
   "source": [
    "model2 = build_model(vocab_size, embedding_dim, rnn_units, batch_size = 1)\n",
    "model2.load_weights(tf.train.latest_checkpoint(output_dir))\n",
    "model.build(tf.TensorShape([1, None]))\n",
    "model2.summary()"
   ]
  },
  {
   "cell_type": "code",
   "execution_count": 95,
   "metadata": {},
   "outputs": [
    {
     "name": "stdout",
     "output_type": "stream",
     "text": [
      "All:\n",
      "Wine he y t d chacoof tive----------------------ped t,\n",
      "Aut, the thivequthad Jube tind tizeseres.\n",
      "Thind akemanoffore\n",
      "NUSize llen pat maxI I an Lalve,\n",
      "Thacan ase mabuse whald he as thare t benoobuce aldir are hasthe pesthafoff pathathore vencond hak these the:\n",
      "CO,\n",
      "Nambetharur Yo'lldofis: thar coves the y t afoucharar,\n",
      "Corut che ty ll besthe athaspllllize h wine tharersthano.\n",
      "I th mee.\n",
      "NUS:\n",
      "CO ato the ty thin pavese COMad thave t t the habe y orenesuro be ponghenth me asize sthif gous hemil ake: se athito!\n",
      "He, ano bese teFise thino,\n",
      "The:\n",
      "I t\n",
      "Thakeves\n",
      "Akeco.\n",
      "acoussthellly A: ss ff pare p t on tingre thakemacato hik t.\n",
      "CO\n",
      "NUS ty anoure thess my m this thist thize t t tind aco wAnd t,\n",
      "CI thas theston an trenof che or arevachinod I ses,\n",
      "I s he ize ad th the hid thilllel he ano inof h had haremor co!\n",
      "Conost nere ticknodifo thase chemy s acow the are all y thene VO, t ak coves I and ve: hareno thakn y topand withize heren qure; ize aknd,\n",
      "Pr thad s y atis,\n",
      "NENounonconoucous thare incagimy nowar\n"
     ]
    }
   ],
   "source": [
    "def generate_text(model, start_string, num_generate = 1000):\n",
    "    input_eval = [char2idx[ch] for ch in start_string]\n",
    "    input_eval = tf.expand_dims(input_eval, 0)\n",
    "    \n",
    "    \n",
    "    text_generated = []\n",
    "    model.reset_states()\n",
    "    \n",
    "    temperature = 0.5\n",
    "    for _ in range(num_generate):\n",
    "        predictions = model(input_eval)\n",
    "        predictions = tf.squeeze(predictions, 0)\n",
    "        predictions = predictions / temperature\n",
    "        predicted_id = tf.random.categorical(predictions, num_samples=1)[-1, 0].numpy()\n",
    "        text_generated.append(idx2char[predicted_id])\n",
    "        input_eval = tf.expand_dims([predicted_id], 0)\n",
    "    return start_string + ''.join(text_generated)\n",
    "\n",
    "new_text = generate_text(model2, 'All:')\n",
    "\n",
    "print(new_text)\n",
    "        "
   ]
  },
  {
   "cell_type": "code",
   "execution_count": null,
   "metadata": {},
   "outputs": [],
   "source": []
  }
 ],
 "metadata": {
  "kernelspec": {
   "display_name": "tensorflow_2.0_env",
   "language": "python",
   "name": "tensorflow_2.0_env"
  },
  "language_info": {
   "codemirror_mode": {
    "name": "ipython",
    "version": 3
   },
   "file_extension": ".py",
   "mimetype": "text/x-python",
   "name": "python",
   "nbconvert_exporter": "python",
   "pygments_lexer": "ipython3",
   "version": "3.7.4"
  }
 },
 "nbformat": 4,
 "nbformat_minor": 2
}
