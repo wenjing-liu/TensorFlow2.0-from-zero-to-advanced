{
 "cells": [
  {
   "cell_type": "code",
   "execution_count": 1,
   "metadata": {},
   "outputs": [
    {
     "name": "stdout",
     "output_type": "stream",
     "text": [
      "2.0.0\n",
      "sys.version_info(major=3, minor=7, micro=4, releaselevel='final', serial=0)\n",
      "matplotlib 3.1.2\n",
      "numpy 1.17.4\n",
      "pandas 0.25.3\n",
      "sklearn 0.22\n",
      "tensorflow 2.0.0\n",
      "tensorflow_core.keras 2.2.4-tf\n"
     ]
    }
   ],
   "source": [
    "import matplotlib as mpl\n",
    "import matplotlib.pyplot as plt\n",
    "%matplotlib inline\n",
    "\n",
    "import numpy as np\n",
    "import pandas as pd\n",
    "import sklearn\n",
    "import os\n",
    "import time\n",
    "import sys\n",
    "import tensorflow as tf\n",
    "\n",
    "from tensorflow import keras\n",
    "\n",
    "print(tf.__version__)\n",
    "print(sys.version_info)\n",
    "\n",
    "for module in mpl, np, pd, sklearn, tf, keras:\n",
    "    print(module.__name__, module.__version__)"
   ]
  },
  {
   "cell_type": "code",
   "execution_count": 2,
   "metadata": {},
   "outputs": [
    {
     "name": "stdout",
     "output_type": "stream",
     "text": [
      ".. _california_housing_dataset:\n",
      "\n",
      "California Housing dataset\n",
      "--------------------------\n",
      "\n",
      "**Data Set Characteristics:**\n",
      "\n",
      "    :Number of Instances: 20640\n",
      "\n",
      "    :Number of Attributes: 8 numeric, predictive attributes and the target\n",
      "\n",
      "    :Attribute Information:\n",
      "        - MedInc        median income in block\n",
      "        - HouseAge      median house age in block\n",
      "        - AveRooms      average number of rooms\n",
      "        - AveBedrms     average number of bedrooms\n",
      "        - Population    block population\n",
      "        - AveOccup      average house occupancy\n",
      "        - Latitude      house block latitude\n",
      "        - Longitude     house block longitude\n",
      "\n",
      "    :Missing Attribute Values: None\n",
      "\n",
      "This dataset was obtained from the StatLib repository.\n",
      "http://lib.stat.cmu.edu/datasets/\n",
      "\n",
      "The target variable is the median house value for California districts.\n",
      "\n",
      "This dataset was derived from the 1990 U.S. census, using one row per census\n",
      "block group. A block group is the smallest geographical unit for which the U.S.\n",
      "Census Bureau publishes sample data (a block group typically has a population\n",
      "of 600 to 3,000 people).\n",
      "\n",
      "It can be downloaded/loaded using the\n",
      ":func:`sklearn.datasets.fetch_california_housing` function.\n",
      "\n",
      ".. topic:: References\n",
      "\n",
      "    - Pace, R. Kelley and Ronald Barry, Sparse Spatial Autoregressions,\n",
      "      Statistics and Probability Letters, 33 (1997) 291-297\n",
      "\n",
      "(20640, 8)\n",
      "(20640,)\n"
     ]
    }
   ],
   "source": [
    "from sklearn.datasets import fetch_california_housing\n",
    "\n",
    "housing = fetch_california_housing()\n",
    "print(housing.DESCR)\n",
    "print(housing.data.shape)\n",
    "print(housing.target.shape)"
   ]
  },
  {
   "cell_type": "code",
   "execution_count": 3,
   "metadata": {},
   "outputs": [
    {
     "name": "stdout",
     "output_type": "stream",
     "text": [
      "(11610, 8) (11610,)\n",
      "(3870, 8) (3870,)\n"
     ]
    }
   ],
   "source": [
    "from sklearn.model_selection import train_test_split\n",
    "\n",
    "x_train_all, x_test, y_train_all, y_test = train_test_split(\n",
    "    housing.data, housing.target, random_state = 7)\n",
    "x_train, x_valid, y_train, y_valid = train_test_split(\n",
    "    x_train_all, y_train_all, random_state = 11)\n",
    "\n",
    "print(x_train.shape, y_train.shape)\n",
    "print(x_valid.shape, y_valid.shape)"
   ]
  },
  {
   "cell_type": "code",
   "execution_count": 4,
   "metadata": {},
   "outputs": [],
   "source": [
    "from sklearn.preprocessing import StandardScaler\n",
    "\n",
    "scaler = StandardScaler()\n",
    "x_train_scaled = scaler.fit_transform(x_train)\n",
    "x_valid_scaled = scaler.transform(x_valid)\n",
    "x_test_scaled = scaler.transform(x_test)"
   ]
  },
  {
   "cell_type": "code",
   "execution_count": 16,
   "metadata": {},
   "outputs": [
    {
     "name": "stdout",
     "output_type": "stream",
     "text": [
      "tf.Tensor([4.5417706e-05 6.7153489e-03 6.9314718e-01 5.0067153e+00 1.0000046e+01], shape=(5,), dtype=float32)\n"
     ]
    }
   ],
   "source": [
    "# tf.nn.softplus: log(1+e^x)\n",
    "\n",
    "customized_softplus = keras.layers.Lambda(lambda x: tf.nn.softplus(x))\n",
    "print(customized_softplus([-10., -5., 0., 5., 10.]))"
   ]
  },
  {
   "cell_type": "code",
   "execution_count": 6,
   "metadata": {},
   "outputs": [
    {
     "name": "stdout",
     "output_type": "stream",
     "text": [
      "Model: \"sequential\"\n",
      "_________________________________________________________________\n",
      "Layer (type)                 Output Shape              Param #   \n",
      "=================================================================\n",
      "customized_dense_layer (Cust (None, 30)                270       \n",
      "_________________________________________________________________\n",
      "customized_dense_layer_1 (Cu (None, 1)                 31        \n",
      "=================================================================\n",
      "Total params: 301\n",
      "Trainable params: 301\n",
      "Non-trainable params: 0\n",
      "_________________________________________________________________\n"
     ]
    }
   ],
   "source": [
    "# customized dense layer\n",
    "class CustomizedDenseLayer(keras.layers.Layer):\n",
    "    def __init__(self, units, activation=None, **kwargs):\n",
    "        self.units = units\n",
    "        self.activation = keras.layers.Activation(activation)\n",
    "        super(CustomizedDenseLayer, self).__init__(**kwargs)\n",
    "    def build(self, input_shape):\n",
    "        \"\"\"构建需要的参数\"\"\"\n",
    "        self.kernel = self.add_weight(name = 'kernel', shape = (input_shape[1], self.units),\n",
    "                                     initializer = 'uniform',\n",
    "                                     trainable = True)\n",
    "        self.bias = self.add_weight(name='bias', shape=(self.units,),\n",
    "                                   initializer = 'zeros',\n",
    "                                   trainable = True)\n",
    "        super(CustomizedDenseLayer, self).build(input_shape)\n",
    "    def call(self, x):\n",
    "        \"\"\"完成正向计算\"\"\"\n",
    "        return self.activation(x @ self.kernel + self.bias)\n",
    "\n",
    "model = keras.models.Sequential([\n",
    "    CustomizedDenseLayer(30, activation='relu', input_shape=x_train.shape[1:]),\n",
    "    CustomizedDenseLayer(1),\n",
    "    customized_softplus,\n",
    "])\n",
    "\n",
    "model.summary()\n",
    "model.compile(loss='mean_squared_error', optimizer='sgd')\n",
    "callbacks = [keras.callbacks.EarlyStopping(patience=5, min_delta=1e-2)]"
   ]
  },
  {
   "cell_type": "code",
   "execution_count": null,
   "metadata": {},
   "outputs": [],
   "source": []
  },
  {
   "cell_type": "code",
   "execution_count": 7,
   "metadata": {},
   "outputs": [
    {
     "name": "stdout",
     "output_type": "stream",
     "text": [
      "Train on 11610 samples, validate on 3870 samples\n",
      "Epoch 1/100\n",
      "11610/11610 [==============================] - 1s 123us/sample - loss: 1.0818 - val_loss: 0.6347\n",
      "Epoch 2/100\n",
      "11610/11610 [==============================] - 1s 65us/sample - loss: 0.5494 - val_loss: 0.5409\n",
      "Epoch 3/100\n",
      "11610/11610 [==============================] - 1s 63us/sample - loss: 0.4866 - val_loss: 0.5059\n",
      "Epoch 4/100\n",
      "11610/11610 [==============================] - 1s 64us/sample - loss: 0.4579 - val_loss: 0.4827\n",
      "Epoch 5/100\n",
      "11610/11610 [==============================] - 1s 77us/sample - loss: 0.4549 - val_loss: 0.4666\n",
      "Epoch 6/100\n",
      "11610/11610 [==============================] - 1s 77us/sample - loss: 0.4419 - val_loss: 0.6312\n",
      "Epoch 7/100\n",
      "11610/11610 [==============================] - 1s 101us/sample - loss: 0.4506 - val_loss: 0.4478\n",
      "Epoch 8/100\n",
      "11610/11610 [==============================] - 1s 84us/sample - loss: 0.4241 - val_loss: 0.4721\n",
      "Epoch 9/100\n",
      "11610/11610 [==============================] - 1s 81us/sample - loss: 0.4099 - val_loss: 0.4282\n",
      "Epoch 10/100\n",
      "11610/11610 [==============================] - 1s 73us/sample - loss: 0.4035 - val_loss: 0.4146\n",
      "Epoch 11/100\n",
      "11610/11610 [==============================] - 1s 79us/sample - loss: 0.3988 - val_loss: 0.4107\n",
      "Epoch 12/100\n",
      "11610/11610 [==============================] - 1s 83us/sample - loss: 0.3940 - val_loss: 0.4138\n",
      "Epoch 13/100\n",
      "11610/11610 [==============================] - 1s 73us/sample - loss: 0.3901 - val_loss: 0.4005\n",
      "Epoch 14/100\n",
      "11610/11610 [==============================] - 1s 66us/sample - loss: 0.3857 - val_loss: 0.4061\n",
      "Epoch 15/100\n",
      "11610/11610 [==============================] - 1s 65us/sample - loss: 0.3826 - val_loss: 0.3938\n",
      "Epoch 16/100\n",
      "11610/11610 [==============================] - 1s 64us/sample - loss: 0.3808 - val_loss: 0.3920\n",
      "Epoch 17/100\n",
      "11610/11610 [==============================] - 1s 64us/sample - loss: 0.3793 - val_loss: 0.4053\n",
      "Epoch 18/100\n",
      "11610/11610 [==============================] - 1s 66us/sample - loss: 0.3787 - val_loss: 0.3867\n",
      "Epoch 19/100\n",
      "11610/11610 [==============================] - 1s 83us/sample - loss: 0.3743 - val_loss: 0.3863\n",
      "Epoch 20/100\n",
      "11610/11610 [==============================] - 1s 84us/sample - loss: 0.3730 - val_loss: 0.3813\n",
      "Epoch 21/100\n",
      "11610/11610 [==============================] - 1s 113us/sample - loss: 0.3727 - val_loss: 0.3821\n",
      "Epoch 22/100\n",
      "11610/11610 [==============================] - 1s 93us/sample - loss: 0.3695 - val_loss: 0.3896\n",
      "Epoch 23/100\n",
      "11610/11610 [==============================] - 1s 110us/sample - loss: 0.3687 - val_loss: 0.3796\n"
     ]
    }
   ],
   "source": [
    "history = model.fit(x_train_scaled, y_train,\n",
    "                   validation_data = (x_valid_scaled, y_valid),\n",
    "                   epochs = 100,\n",
    "                   callbacks = callbacks)"
   ]
  },
  {
   "cell_type": "code",
   "execution_count": 8,
   "metadata": {},
   "outputs": [
    {
     "data": {
      "image/png": "[encoded data removed]",
      "text/plain": [
       "<Figure size 576x360 with 1 Axes>"
      ]
     },
     "metadata": {
      "needs_background": "light"
     },
     "output_type": "display_data"
    }
   ],
   "source": [
    "def plot_learning_curves(history):\n",
    "    pd.DataFrame(history.history).plot(figsize=(8, 5))\n",
    "    plt.grid(True)\n",
    "    plt.gca().set_ylim(0, 1)\n",
    "    plt.show()\n",
    "\n",
    "plot_learning_curves(history)"
   ]
  },
  {
   "cell_type": "code",
   "execution_count": null,
   "metadata": {},
   "outputs": [],
   "source": []
  }
 ],
 "metadata": {
  "kernelspec": {
   "display_name": "tensorflow_2.0_env",
   "language": "python",
   "name": "tensorflow_2.0_env"
  },
  "language_info": {
   "codemirror_mode": {
    "name": "ipython",
    "version": 3
   },
   "file_extension": ".py",
   "mimetype": "text/x-python",
   "name": "python",
   "nbconvert_exporter": "python",
   "pygments_lexer": "ipython3",
   "version": "3.7.4"
  }
 },
 "nbformat": 4,
 "nbformat_minor": 2
}
